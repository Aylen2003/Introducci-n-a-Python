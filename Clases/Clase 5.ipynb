{
 "cells": [
  {
   "cell_type": "markdown",
   "id": "0d49ee19-3e3f-434f-a883-712002ec46cb",
   "metadata": {},
   "source": [
    "# Cadeneas de caracteres"
   ]
  },
  {
   "cell_type": "markdown",
   "id": "612a992e-5ada-4b4c-a887-c0d8d4c49952",
   "metadata": {},
   "source": [
    "Para usar texto siempre hay que cerrar con “”."
   ]
  },
  {
   "cell_type": "markdown",
   "id": "ef82b8e3-793d-42bb-8375-dd2c83a21e40",
   "metadata": {},
   "source": [
    "### Mostrar comillas en un texto "
   ]
  },
  {
   "cell_type": "markdown",
   "id": "99159a9c-6a99-454c-a280-e0b551d9c82e",
   "metadata": {},
   "source": [
    "- Si mi texto esta encerrado entre comillas dobles (” ”) adentro voy a poder mostrar comillas simples.\n",
    "- Si mi texto esta encerrado entre comillas simples ( ‘ ’ ) adentro voy a poder mostrar comillas dobles."
   ]
  },
  {
   "cell_type": "code",
   "execution_count": 1,
   "id": "a3ff8898-b4ee-40c2-9d63-b3449113a061",
   "metadata": {},
   "outputs": [
    {
     "name": "stdout",
     "output_type": "stream",
     "text": [
      "Esto recien 'empieza', ya se vienen las bases de datos\n",
      "Falta poco\n"
     ]
    }
   ],
   "source": [
    "print(\"Esto recien 'empieza', ya se vienen las bases de datos\")\n",
    "print('Falta poco')"
   ]
  },
  {
   "cell_type": "markdown",
   "id": "5352828a-7518-4944-b16c-21c7747e54d0",
   "metadata": {},
   "source": [
    "### Carácter de escape\n",
    "\n",
    "El carácter de escape esta en casi todos los lenguajes. \n",
    "\n",
    "Lo que me permite es decirle al interprete o al compilador que el carácter que esta inmediatamente después lo ignore."
   ]
  },
  {
   "cell_type": "code",
   "execution_count": 4,
   "id": "122cc2f4-fc45-448c-957d-8094976ece3b",
   "metadata": {},
   "outputs": [
    {
     "name": "stdout",
     "output_type": "stream",
     "text": [
      "Esto recién'empieza', ya se vienen las bases de datos\n"
     ]
    }
   ],
   "source": [
    "print(\"Esto recién\\'empieza', ya se vienen las bases de datos\")"
   ]
  },
  {
   "cell_type": "markdown",
   "id": "5d518de6-e680-4e0a-91b2-9a3378c48240",
   "metadata": {},
   "source": [
    "Un texto es un elemento que esta indexado, eso quiere decir que cada elemento que tiene adentro esta relacionado con un índice."
   ]
  },
  {
   "cell_type": "code",
   "execution_count": 5,
   "id": "dfd3f6d5-1d08-4c98-954c-52535e068c35",
   "metadata": {},
   "outputs": [
    {
     "name": "stdout",
     "output_type": "stream",
     "text": [
      "u\n"
     ]
    }
   ],
   "source": [
    "# El texto es un elemento indexado \n",
    "texto = 'Curso de Python'\n",
    "print(texto [1])"
   ]
  },
  {
   "cell_type": "markdown",
   "id": "bf1bfaf9-4646-48a5-b703-191a0665119a",
   "metadata": {},
   "source": [
    "***Longitud de un texto***"
   ]
  },
  {
   "cell_type": "code",
   "execution_count": 7,
   "id": "0290b4c2-a971-4d7b-9f17-8ae1bcd76a37",
   "metadata": {},
   "outputs": [
    {
     "name": "stdout",
     "output_type": "stream",
     "text": [
      "15\n"
     ]
    }
   ],
   "source": [
    "print(len(texto))"
   ]
  },
  {
   "cell_type": "markdown",
   "id": "8ac78577-6639-417a-a6d6-f912cd74d360",
   "metadata": {},
   "source": [
    "### Suma de texto\n",
    "\n",
    "Internamente python lo toma como elementos puede ser relacionados con operadores aritméticos."
   ]
  },
  {
   "cell_type": "code",
   "execution_count": 14,
   "id": "06e0b5dd-79e5-4ebc-8370-4130a4458270",
   "metadata": {},
   "outputs": [
    {
     "name": "stdout",
     "output_type": "stream",
     "text": [
      "La suma entre Curso y Python es: CursoPython\n"
     ]
    }
   ],
   "source": [
    "a = 'Curso'\n",
    "b = 'Python'\n",
    "c= '2024'\n",
    "print(\"La suma entre {} y {} es: {}\".format(a,b, a + b))"
   ]
  },
  {
   "cell_type": "markdown",
   "id": "35ceacb1-dc17-4805-83b5-d78cf03d3e81",
   "metadata": {},
   "source": [
    "### Producto\n",
    "\n",
    "Lo usamos en situaciones muy particulares."
   ]
  },
  {
   "cell_type": "code",
   "execution_count": 9,
   "id": "e5b0b791-9bec-4d11-9ef7-1d30ea7eed97",
   "metadata": {},
   "outputs": [
    {
     "name": "stdout",
     "output_type": "stream",
     "text": [
      "HolaHolaHola\n"
     ]
    }
   ],
   "source": [
    "print('Hola'*3)"
   ]
  },
  {
   "cell_type": "markdown",
   "id": "e7569f4b-9437-47ba-9ed9-22343f2cef73",
   "metadata": {},
   "source": [
    "### JOIN\n",
    "\n",
    "La función JOIN me permite unir dos variables dándome la posibilidad de poner un carácter de espacio."
   ]
  },
  {
   "cell_type": "markdown",
   "id": "8ac91d08-208a-49fe-bb55-3645a2b86526",
   "metadata": {},
   "source": [
    "#### Método JOIN\n",
    "\n",
    "El método JOIN lleva como argumento para trabajar una lista"
   ]
  },
  {
   "cell_type": "code",
   "execution_count": 18,
   "id": "296d68ae-b5e3-4a3e-ad60-604b2d289f9f",
   "metadata": {},
   "outputs": [
    {
     "name": "stdout",
     "output_type": "stream",
     "text": [
      "CursoPython\n",
      "Curso,Python\n",
      "CursoPython2024\n",
      "Curso-Python-2024\n"
     ]
    }
   ],
   "source": [
    "print(\"\".join([a,b]))\n",
    "\n",
    "print(\",\".join([a,b]))\n",
    "\n",
    "print(''.join([a,b,c]))\n",
    "\n",
    "print('-'.join([a,b,c]))"
   ]
  },
  {
   "cell_type": "markdown",
   "id": "e49faf9d-8b67-422d-8724-a9383c0ca16e",
   "metadata": {},
   "source": [
    "### STRIP\n",
    "\n",
    "El método STRIP  utilizado sin un argumento sirve para el manejo de datos. \n",
    "\n",
    "Me permite eliminar espacios y características."
   ]
  },
  {
   "cell_type": "code",
   "execution_count": 19,
   "id": "94758826-601b-48f6-ae87-7e4fdd42db2e",
   "metadata": {},
   "outputs": [
    {
     "name": "stdout",
     "output_type": "stream",
     "text": [
      "         Curso de Python%\n",
      "Curso de Python%\n",
      "         Curso de Python\n"
     ]
    }
   ],
   "source": [
    "d = '         Curso de Python%'\n",
    "print(d)\n",
    "print(d.strip())\n",
    "print(d.strip('%'))"
   ]
  },
  {
   "cell_type": "code",
   "execution_count": 20,
   "id": "907d9db3-a634-4ddb-8cc5-40e0381402f5",
   "metadata": {},
   "outputs": [
    {
     "name": "stdout",
     "output_type": "stream",
     "text": [
      "            Curso de Python%#\n",
      "Curso de Python%#\n",
      "            Curso de Python\n"
     ]
    }
   ],
   "source": [
    "d = '            Curso de Python%#'\n",
    "print(d)\n",
    "print(d.strip())\n",
    "print(d.strip('%#'))                  "
   ]
  },
  {
   "cell_type": "markdown",
   "id": "dd9e7e5d-031a-4000-ba07-559f1fdc34b9",
   "metadata": {},
   "source": [
    "### SPLIT"
   ]
  },
  {
   "cell_type": "code",
   "execution_count": 21,
   "id": "d958c9ab-9c57-462d-b1b9-d9097a7272f1",
   "metadata": {},
   "outputs": [
    {
     "name": "stdout",
     "output_type": "stream",
     "text": [
      "['Guillermo', ' Alfaro', ' Profesor']\n",
      "<class 'list'>\n",
      "3\n"
     ]
    }
   ],
   "source": [
    "q = \"Guillermo, Alfaro, Profesor\"\n",
    "print(q.split(',')) # Sola una salida por pantalla\n",
    "w = q.split(',')\n",
    "print(type(w))\n",
    "print(len(w))"
   ]
  },
  {
   "cell_type": "markdown",
   "id": "fd082c10-c2eb-4e83-9bf3-6e377c9b17b2",
   "metadata": {},
   "source": [
    "### UPPER - LOWER\n",
    "\n",
    "***UPPER:*** me sirve para convertir un texto todo en mayúscula. \n",
    "\n",
    "***LOWER:*** me sirve par convertir un texto todo en minúscula."
   ]
  },
  {
   "cell_type": "code",
   "execution_count": 23,
   "id": "3ad282cc-542c-413c-a53c-78eb49fc8030",
   "metadata": {},
   "outputs": [
    {
     "name": "stdout",
     "output_type": "stream",
     "text": [
      "Todo a mayusculas: HOLA\n",
      "Todo a minuscula: mundo\n"
     ]
    }
   ],
   "source": [
    "a = \"Hola\"\n",
    "b= 'Mundo'\n",
    "print('Todo a mayusculas: {}'.format(a.upper()))\n",
    "print('Todo a minuscula: {}'.format(b.lower()))"
   ]
  },
  {
   "cell_type": "markdown",
   "id": "01bb8bc5-fce5-46be-9d46-235f759cba5d",
   "metadata": {},
   "source": [
    "### Split con | "
   ]
  },
  {
   "cell_type": "code",
   "execution_count": 24,
   "id": "fedc511c-7d73-41e4-86e6-66a4f75c85a2",
   "metadata": {},
   "outputs": [
    {
     "name": "stdout",
     "output_type": "stream",
     "text": [
      "['Guillermo', 'Alfaro', 'Profesor']\n"
     ]
    }
   ],
   "source": [
    "a = \"Guillermo|Alfaro|Profesor\"\n",
    "b = a.split('|')\n",
    "print(b)"
   ]
  },
  {
   "cell_type": "markdown",
   "id": "d551f8ac-797b-4323-8140-8a5b43aa342b",
   "metadata": {},
   "source": [
    "### Manejo básico de fechas"
   ]
  },
  {
   "cell_type": "markdown",
   "id": "3356d5bf-8594-45c9-a2a5-d09c2a3eb8d2",
   "metadata": {},
   "source": [
    "Python desde hace mucho viene con un monton de modulos. Los modulos es lo que antes se llamaba libreria, cuentan con un monton de funciones nuevas."
   ]
  },
  {
   "cell_type": "code",
   "execution_count": 26,
   "id": "311d7804-46dd-47e2-b385-e272f5c09ff8",
   "metadata": {},
   "outputs": [],
   "source": [
    "from datetime import datetime # From = es donde le indicamos a python donde sacar la funcionalidad - import = lo usamos para importar el metodo"
   ]
  },
  {
   "cell_type": "code",
   "execution_count": 27,
   "id": "5ffe996f-33fb-46fb-be01-ea750e4692aa",
   "metadata": {},
   "outputs": [
    {
     "name": "stdout",
     "output_type": "stream",
     "text": [
      "2024-07-16 18:55:20.438062\n"
     ]
    }
   ],
   "source": [
    "fecha = datetime.now()\n",
    "print(fecha)"
   ]
  },
  {
   "cell_type": "markdown",
   "id": "a34aec9b-1a1d-466b-956a-912d80d954a8",
   "metadata": {},
   "source": [
    "#### Como extraer partes de la fecha usando métodos del objeto"
   ]
  },
  {
   "cell_type": "code",
   "execution_count": 28,
   "id": "ddb02a8a-52ce-4ed1-80e3-4ac7ca04b0d4",
   "metadata": {},
   "outputs": [
    {
     "name": "stdout",
     "output_type": "stream",
     "text": [
      "2024\n",
      "7\n",
      "18\n",
      "55\n",
      "20\n",
      "438062\n"
     ]
    }
   ],
   "source": [
    "print(fecha.year)\n",
    "print(fecha.month)\n",
    "print(fecha.hour)\n",
    "print(fecha.minute)\n",
    "print(fecha.second)\n",
    "print(fecha.microsecond)"
   ]
  },
  {
   "cell_type": "markdown",
   "id": "d2e85225-929f-45fc-b866-49e0a33e78d5",
   "metadata": {},
   "source": [
    "### Ejemplo de formato"
   ]
  },
  {
   "cell_type": "code",
   "execution_count": 29,
   "id": "2e04ac68-d91b-454e-9034-8e55f8e1e132",
   "metadata": {},
   "outputs": [
    {
     "name": "stdout",
     "output_type": "stream",
     "text": [
      "16|7|2024\n"
     ]
    }
   ],
   "source": [
    "print(\"{}|{}|{}\".format(fecha.day,fecha.month,fecha.year))"
   ]
  }
 ],
 "metadata": {
  "kernelspec": {
   "display_name": "Python 3 (ipykernel)",
   "language": "python",
   "name": "python3"
  },
  "language_info": {
   "codemirror_mode": {
    "name": "ipython",
    "version": 3
   },
   "file_extension": ".py",
   "mimetype": "text/x-python",
   "name": "python",
   "nbconvert_exporter": "python",
   "pygments_lexer": "ipython3",
   "version": "3.11.7"
  }
 },
 "nbformat": 4,
 "nbformat_minor": 5
}
