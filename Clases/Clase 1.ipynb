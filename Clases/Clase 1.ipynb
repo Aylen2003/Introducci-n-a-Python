{
 "cells": [
  {
   "cell_type": "markdown",
   "id": "633a62e7-f2b9-42aa-9767-46a239198fc2",
   "metadata": {},
   "source": [
    "# Introducción a la programacion"
   ]
  },
  {
   "cell_type": "markdown",
   "id": "1b4c671e-59f7-41f3-9c15-0f38eb54f181",
   "metadata": {},
   "source": [
    "## Algunos conceptos basicos"
   ]
  },
  {
   "cell_type": "markdown",
   "id": "b6170683-a691-401a-b955-2656a5eb1d0b",
   "metadata": {},
   "source": [
    "***¿Que es la programación?***"
   ]
  },
  {
   "cell_type": "markdown",
   "id": "b14de9ac-8785-4cc1-a39c-7945fa72800c",
   "metadata": {},
   "source": [
    "La programacion es el proceso de diseñar, escribir, pobrar y mantener el codigo fuente."
   ]
  },
  {
   "cell_type": "markdown",
   "id": "45e04330-b11b-427d-a872-fb6045c13929",
   "metadata": {},
   "source": [
    "***Etapas de la programación***"
   ]
  },
  {
   "cell_type": "markdown",
   "id": "e153fddd-75e4-42a8-8b09-3600c1896342",
   "metadata": {},
   "source": [
    "* **Diseñar:** es donde tomamos contacto con el problema y vamos elavorando una solución"
   ]
  },
  {
   "cell_type": "markdown",
   "id": "7045a170-5744-423b-91ab-11db795975b8",
   "metadata": {},
   "source": [
    "* **Interpretar el algoritmo:** interpretamos el algoritmo que hicimos lo traducimos y lo convertimos en código."
   ]
  },
  {
   "cell_type": "markdown",
   "id": "41a5911f-ed25-4403-b44c-41df6b0ad5b3",
   "metadata": {},
   "source": [
    "* **Probar algoritmo:** tenemos que probar el código de todas las formas posibles, teniendo en cuenta que nuestro codigo esta destinado a usuarios."
   ]
  },
  {
   "cell_type": "markdown",
   "id": "45fe2dd3-f429-44ef-93b9-65dd23ec538a",
   "metadata": {},
   "source": [
    "* **Mantenimiento del código:** debemos escribir nuestro código de manera que podamos mantenerlo a futuro."
   ]
  },
  {
   "cell_type": "markdown",
   "id": "5c64d064-6ec8-4c75-a16a-c1b91b34c26c",
   "metadata": {},
   "source": [
    "Basicamente programar es crear instrucciones que le dicen a la computadora que es lo que tiene que hacer."
   ]
  },
  {
   "cell_type": "markdown",
   "id": "87077b6f-da9b-43da-bec5-ba69fd4b243c",
   "metadata": {},
   "source": [
    "***Algunos beneficios***"
   ]
  },
  {
   "cell_type": "markdown",
   "id": "23224d56-5c72-4c3c-bf82-f47012aee165",
   "metadata": {},
   "source": [
    "* A través de la programación podemos crear todo tipo de software. "
   ]
  },
  {
   "cell_type": "markdown",
   "id": "170b2f29-0078-4c26-9458-5026fea89924",
   "metadata": {},
   "source": [
    "* La programación nos ahorra tiempo y esfuerzo sino que tambien reduce el riesgo de errores humanos."
   ]
  },
  {
   "cell_type": "markdown",
   "id": "812aa68b-b84e-4891-ab93-26a1e4727dfa",
   "metadata": {},
   "source": [
    "Toda programación se basa en un lenguaje de programación."
   ]
  },
  {
   "cell_type": "markdown",
   "id": "5fe2b12e-cc95-41f9-835a-7cba5352514e",
   "metadata": {},
   "source": [
    "### Lenguajes de programación"
   ]
  },
  {
   "cell_type": "markdown",
   "id": "1101e14e-3964-4ca3-b168-055121f7a7aa",
   "metadata": {},
   "source": [
    "Nosotros vamos a trabajar con un lenguaje de programación. "
   ]
  },
  {
   "cell_type": "markdown",
   "id": "83de907a-80fb-436c-97d8-1f234dae7ff0",
   "metadata": {},
   "source": [
    "Todos los lenguajes de programación tienen en general un gran numero de elementos que son comunes a todos. \n",
    "<br/>\n",
    "Lo que varia de un lenguaje es la sintaxis"
   ]
  },
  {
   "cell_type": "markdown",
   "id": "077dd773-44d1-47f5-a108-70066c1d9741",
   "metadata": {},
   "source": [
    "***Clasificación***"
   ]
  },
  {
   "cell_type": "markdown",
   "id": "5cc22e93-f7b9-482c-8184-6e6f418b54a2",
   "metadata": {},
   "source": [
    "Los lenguajes de programación tienen varias clasificaciónes dependiendo del punto de vista que le querramos dar."
   ]
  },
  {
   "cell_type": "markdown",
   "id": "df58fed1-36f1-4a82-a298-bfb0b1403638",
   "metadata": {},
   "source": [
    "****Por nivel****"
   ]
  },
  {
   "cell_type": "markdown",
   "id": "95a7820c-7698-496f-b633-c85674bf2da3",
   "metadata": {},
   "source": [
    "Cuando decimos que un lenguaje es de alto y bajo nivel nos referimos a la cercania del lenguaje humano y lenguaje maquina."
   ]
  },
  {
   "cell_type": "markdown",
   "id": "113185cb-11de-49cc-ac30-350204ae7a10",
   "metadata": {},
   "source": [
    "* **Alto:**  tienen una semantica similar a la forma de hablar del ser humano. "
   ]
  },
  {
   "cell_type": "markdown",
   "id": "5d58bc85-7d67-4bc5-b9b6-15c5dadc714b",
   "metadata": {},
   "source": [
    "* **Bajo:** es más parecido al lenguaje maquina."
   ]
  },
  {
   "cell_type": "markdown",
   "id": "0ae9f7cc-23a8-4195-abb0-07af3351f59e",
   "metadata": {},
   "source": [
    "****Por traducción****"
   ]
  },
  {
   "cell_type": "markdown",
   "id": "b0419bce-145e-4920-80eb-52a3cd105f8d",
   "metadata": {},
   "source": [
    "* **Interpretados:** nosotros los escribimos y cuando lo ejecutamos se le va traduciendo línea a línea a la maquina. Necesita de un interprete."
   ]
  },
  {
   "cell_type": "markdown",
   "id": "5635bf13-c36e-475f-8635-9a5137a13b36",
   "metadata": {},
   "source": [
    "* **Compilados:** necesita de un compilador y lo que hace una vez terminado nuestro codigo lo compila, lo empaqueta y se lo da a la maquina para que lo pueda ejecutar."
   ]
  },
  {
   "cell_type": "markdown",
   "id": "401c32de-b8c1-45d8-8ec2-88482ed7d486",
   "metadata": {},
   "source": [
    "****Por ambito****"
   ]
  },
  {
   "cell_type": "markdown",
   "id": "a74dbad7-020d-49ed-ac42-ff341bb24024",
   "metadata": {},
   "source": [
    "* **Lado cliente:** por ejemplo, python, java script, etc."
   ]
  },
  {
   "cell_type": "markdown",
   "id": "d5363fdf-d414-44bf-ae6e-2110ef99eddc",
   "metadata": {},
   "source": [
    "* **Lado servidor:** por ejemplo PHP."
   ]
  },
  {
   "cell_type": "markdown",
   "id": "8684f227-1d09-4401-9a1c-afb0eea815e3",
   "metadata": {},
   "source": [
    "Python es un lenguaje de alto nivel y es interpretado."
   ]
  },
  {
   "cell_type": "markdown",
   "id": "e3d03b44-026a-48a8-8f1e-5c77aa5d1bc3",
   "metadata": {},
   "source": [
    "### Tipos de datos"
   ]
  },
  {
   "cell_type": "markdown",
   "id": "e0494ce7-3802-4f3a-8ed4-6db11bbd1c74",
   "metadata": {},
   "source": [
    "Los programas que vayamos a hacer siempre trabajan con datos."
   ]
  },
  {
   "cell_type": "markdown",
   "id": "0b003b54-5f14-4414-b748-43692c61ca9b",
   "metadata": {},
   "source": [
    "Los tipos de datos varian dependiendo del lenguaje. "
   ]
  },
  {
   "cell_type": "markdown",
   "id": "a8d1902b-ba1f-483b-adee-2724d1d4c4cc",
   "metadata": {},
   "source": [
    "***Numericos***"
   ]
  },
  {
   "cell_type": "markdown",
   "id": "cd96ac94-caa7-4f85-9a5e-ea2262db4fe6",
   "metadata": {},
   "source": [
    "* **Entero** "
   ]
  },
  {
   "cell_type": "markdown",
   "id": "75e47c1d-b938-492b-98ed-593e869d5e8b",
   "metadata": {},
   "source": [
    "* **Flotante:** Son lo que llamamos decimales, tienen una parte entera y una parte decimal. "
   ]
  },
  {
   "cell_type": "markdown",
   "id": "301cceb5-861b-4f0d-ac03-4e869b3d6371",
   "metadata": {},
   "source": [
    "***Cadenas***\n",
    "<br/>\n",
    "Si queremos escribir un texto lo escribimos con ' o \" ."
   ]
  },
  {
   "cell_type": "markdown",
   "id": "dd3cf712-9dc6-4cbf-8d07-89bf3b48d5cb",
   "metadata": {},
   "source": [
    "***Booleanos***\n",
    "<br/>\n",
    "Es un valor que puede tomar verdadero o falso."
   ]
  },
  {
   "cell_type": "markdown",
   "id": "1fac2c94-c5e5-49b6-aeef-72cb38cebaaf",
   "metadata": {},
   "source": [
    "***Arreglos*** \n",
    "<br/>\n",
    "Es un conjunto de tipos de datos."
   ]
  },
  {
   "cell_type": "markdown",
   "id": "30468c3a-8aee-4c25-a343-ed5d09718930",
   "metadata": {},
   "source": [
    "***Objetos***\n",
    "<br/>\n",
    "Es un bloque del codigo que tiene un montón de atributos, tiene un montón de funcionalidades. Trabajan en conjunto"
   ]
  },
  {
   "cell_type": "markdown",
   "id": "42f8462d-6c00-474b-87a6-56d330d4c989",
   "metadata": {},
   "source": [
    "### Herramientas"
   ]
  },
  {
   "cell_type": "markdown",
   "id": "d3a16d89-5430-47a6-bc8b-e924dea62784",
   "metadata": {},
   "source": [
    "- Editor de texto.\n",
    "- IDE (visual studio, androi).\n",
    "- Motor de BDD (base de datos).\n",
    "- Gestor de BDD."
   ]
  },
  {
   "cell_type": "markdown",
   "id": "2f9ad734-25be-4070-ad47-aeb297458f04",
   "metadata": {},
   "source": [
    "### Elementos de lenguaje"
   ]
  },
  {
   "cell_type": "markdown",
   "id": "2abbeec9-6933-4967-a990-acd7c10fb795",
   "metadata": {},
   "source": [
    "- **Algoritmos**.\n",
    "- **Comentarios**.\n",
    "- **Variables y constantes:** Variable = puede variar   Constantes = guarda un dato que no quiero que varie\n",
    "- **Operadores aritméticos**.\n",
    "- **Operadores relacionales:** vamos a establecer una relación.\n",
    "- **Operadores lógicos:** y - o .\n",
    "- **Estructuras de decisión:** son aquellos que van a tomar una decisión.\n",
    "- **Estructuras repetitivas:** son aquellos que ejecutan el codigo una cantidad de veces.\n",
    "- **Funciones:** bloque de codigo que le puedo poner un nombre para utilizarlo después.\n",
    "- **Clases y objetos:** son estructura de códigos y pueden llevar un nombre."
   ]
  },
  {
   "cell_type": "markdown",
   "id": "54efd58b-c0b5-4609-b06b-4a2116e037d8",
   "metadata": {},
   "source": [
    "Las clases son porción de codigo de donde nacen los objetos"
   ]
  },
  {
   "cell_type": "markdown",
   "id": "32dcbce3-b596-4c80-9747-8e8235969e0b",
   "metadata": {},
   "source": [
    "## Primer Programa"
   ]
  },
  {
   "cell_type": "code",
   "execution_count": 2,
   "id": "61dde6b6-1293-4caf-8788-4c0c6db26eb3",
   "metadata": {},
   "outputs": [
    {
     "data": {
      "text/plain": [
       "<function print(*args, sep=' ', end='\\n', file=None, flush=False)>"
      ]
     },
     "execution_count": 2,
     "metadata": {},
     "output_type": "execute_result"
    }
   ],
   "source": [
    "print"
   ]
  },
  {
   "cell_type": "markdown",
   "id": "f5cdf55a-b90d-4a9d-9db3-1e4c9d6a2891",
   "metadata": {},
   "source": [
    "- salida de pantalla\n",
    "- es una función\n",
    "- lleva paréntesis al lado del nombre\n",
    "- ***No*** lleva **;**"
   ]
  },
  {
   "cell_type": "code",
   "execution_count": 1,
   "id": "917a44b7-d61a-4bfa-80e3-2b8a60bfa427",
   "metadata": {},
   "outputs": [
    {
     "name": "stdout",
     "output_type": "stream",
     "text": [
      "Hola mundo\n"
     ]
    }
   ],
   "source": [
    "print('Hola mundo')"
   ]
  }
 ],
 "metadata": {
  "kernelspec": {
   "display_name": "Python 3 (ipykernel)",
   "language": "python",
   "name": "python3"
  },
  "language_info": {
   "codemirror_mode": {
    "name": "ipython",
    "version": 3
   },
   "file_extension": ".py",
   "mimetype": "text/x-python",
   "name": "python",
   "nbconvert_exporter": "python",
   "pygments_lexer": "ipython3",
   "version": "3.11.7"
  }
 },
 "nbformat": 4,
 "nbformat_minor": 5
}
