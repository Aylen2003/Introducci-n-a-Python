{
 "cells": [
  {
   "cell_type": "markdown",
   "id": "906a57e9-8bd4-4524-93e0-8abc71972c1c",
   "metadata": {},
   "source": [
    "# Clase del 28-03"
   ]
  },
  {
   "cell_type": "markdown",
   "id": "da5d53e7-9c1f-434d-92e6-fbad6899c9f3",
   "metadata": {},
   "source": [
    "## Repaso método FORMAT"
   ]
  },
  {
   "cell_type": "code",
   "execution_count": 1,
   "id": "9573fac4-7ca7-4b6b-97d1-cad644d92f01",
   "metadata": {},
   "outputs": [
    {
     "name": "stdout",
     "output_type": "stream",
     "text": [
      "Bienvenido Guillermo al curso de python\n"
     ]
    }
   ],
   "source": [
    "a = 'Guillermo'\n",
    "\n",
    "print(\"Bienvenido {} al curso de python\".format(a))"
   ]
  },
  {
   "cell_type": "markdown",
   "id": "e1162cab-08f5-4179-ab73-1580d82df005",
   "metadata": {},
   "source": [
    "## Estructuras"
   ]
  },
  {
   "cell_type": "markdown",
   "id": "a98a531b-6197-4c34-b2e8-566523bc00b9",
   "metadata": {},
   "source": [
    "Es un bloque de codigo que trabajo en conjunto. "
   ]
  },
  {
   "cell_type": "markdown",
   "id": "691425d6-25cb-4946-88d8-2cbc2d9686e6",
   "metadata": {},
   "source": [
    "### Condicional"
   ]
  },
  {
   "cell_type": "markdown",
   "id": "c77b3931-3f76-4008-8327-b3a849ac1804",
   "metadata": {},
   "source": [
    "Va a verificar el valor de verdad que tiene una afirmación y de acuerdo a lo que resuelva Python si es verdadera o falsa hará lo que yo le pida. \n",
    "\n",
    "- La estructura siempre va a comenzar de la misma manera, con la palabra reservada ***IF***.\n",
    "- Los **:** siempre tienen que ir al final de la condición."
   ]
  },
  {
   "cell_type": "code",
   "execution_count": 2,
   "id": "a361a995-bd98-42a4-9100-766a48532d9b",
   "metadata": {},
   "outputs": [
    {
     "name": "stdout",
     "output_type": "stream",
     "text": [
      "Fin del ejemplo\n"
     ]
    }
   ],
   "source": [
    "# Condicional IF\n",
    "a = 12\n",
    "if a==7:\n",
    "    print(\"La variable a, es igual a 7\")\n",
    "\n",
    "print(\"Fin del ejemplo\")\n",
    "    "
   ]
  },
  {
   "cell_type": "code",
   "execution_count": 3,
   "id": "beae1b8f-290f-4c4c-b625-9e23f41a13ee",
   "metadata": {},
   "outputs": [
    {
     "name": "stdout",
     "output_type": "stream",
     "text": [
      "La variable a, es igual a 7\n",
      "Fin del ejemplo\n"
     ]
    }
   ],
   "source": [
    "# Condicional IF\n",
    "a = 7\n",
    "if a==7:\n",
    "    print(\"La variable a, es igual a 7\")\n",
    "\n",
    "print(\"Fin del ejemplo\")"
   ]
  },
  {
   "cell_type": "markdown",
   "id": "544c2a7a-4c2f-4337-a342-98e2f1f311a7",
   "metadata": {},
   "source": [
    "Podemos tener un if dentro de otro if, lo llamamos if anidados (podemos solo tener 3 if’s). "
   ]
  },
  {
   "cell_type": "code",
   "execution_count": 4,
   "id": "e2abcade-9b08-4f95-9e80-c7ab55c2f98c",
   "metadata": {},
   "outputs": [
    {
     "name": "stdout",
     "output_type": "stream",
     "text": [
      "Descanso\n",
      "La condición resulto verdadera\n",
      "Fin del ejemplo\n"
     ]
    }
   ],
   "source": [
    "# Estructura condicional IF / ELSE\n",
    "dia = 'domingo'\n",
    "\n",
    "if dia =='domingo':\n",
    "    print('Descanso')\n",
    "    print('La condición resulto verdadera')\n",
    "else:\n",
    "    print('Trabajo')\n",
    "    print('La condición resultó Falsa')\n",
    "print('Fin del ejemplo')\n",
    "    "
   ]
  },
  {
   "cell_type": "code",
   "execution_count": 5,
   "id": "5c16783b-58a3-426a-9f83-c25c913b8312",
   "metadata": {},
   "outputs": [
    {
     "name": "stdout",
     "output_type": "stream",
     "text": [
      "Descanso\n",
      "La condición resulto verdadera\n",
      "Fin del ejemplo\n"
     ]
    }
   ],
   "source": [
    "# Estructura condicional IF / ELSE\n",
    "dia = 'domingo'\n",
    "clima = 'soleado'\n",
    "\n",
    "if (dia =='domingo'and clima == 'soleado'):\n",
    "    print('Descanso')\n",
    "    print('La condición resulto verdadera')\n",
    "else:\n",
    "    print('Trabajo')\n",
    "    print('La condición resultó Falsa')\n",
    "print('Fin del ejemplo')"
   ]
  },
  {
   "cell_type": "markdown",
   "id": "b2609384-d37d-4061-98ec-8baef8730887",
   "metadata": {},
   "source": [
    "Una comparación puede tener más de un resultado que yo necesite considerar verdadera. \n",
    "\n",
    "- *IF* = verdadero\n",
    "- *ELSE* = falso\n",
    "- *ELIF* = más respuestas verdadera. El ELIF seria otro IF, coloquialmente hace referencia al SI TAMBIEN"
   ]
  },
  {
   "cell_type": "code",
   "execution_count": 6,
   "id": "b9b5998b-46f9-476d-ba4e-ae9876ade962",
   "metadata": {},
   "outputs": [
    {
     "name": "stdout",
     "output_type": "stream",
     "text": [
      "El valor está entre 0 y 10\n"
     ]
    }
   ],
   "source": [
    "# Estructura condicional It / ELIF / ELSE\n",
    "a = 1\n",
    "\n",
    "if a<0:\n",
    "    print(\"El valor es negativo\")\n",
    "elif a>= 0 and a<= 10:   # no podemos usar el or porque nos va a dar mal\n",
    "    print(\"El valor está entre 0 y 10\")\n",
    "else:\n",
    "    print(\"El valor es mayor que 10\")"
   ]
  },
  {
   "cell_type": "markdown",
   "id": "d8384fe9-f889-4122-83e5-c41807c7016d",
   "metadata": {},
   "source": [
    "#### Evaluamos variables"
   ]
  },
  {
   "cell_type": "markdown",
   "id": "2888c72e-3155-44a2-ad61-c647d2456f51",
   "metadata": {},
   "source": [
    "Sirve tener a mano esta evaluaciones, para cuando tenga que verificar que el archivo tiene datos, la tabla tenga datos, etc. \n",
    "\n",
    "- Para los valores numéricos me da falso únicamente cuando tenga cargado el valor 0.\n",
    "- Para los strings cuando tenga un texto vacío.\n",
    "- Me va a dar falso cuando configure en mayúscula el NULL .\n",
    "- Me da falso cuando tengo colecciones vacías o archivos vació."
   ]
  },
  {
   "cell_type": "code",
   "execution_count": 7,
   "id": "b6752b88-4a2b-4493-a345-faa656b87056",
   "metadata": {},
   "outputs": [
    {
     "name": "stdout",
     "output_type": "stream",
     "text": [
      "Falso\n"
     ]
    }
   ],
   "source": [
    "a = ''\n",
    "if a:\n",
    "    print(\"verdadero\")\n",
    "else:\n",
    "    print(\"Falso\")"
   ]
  },
  {
   "cell_type": "markdown",
   "id": "ba5149a5-56bc-452c-bdff-cbd2e22905fe",
   "metadata": {},
   "source": [
    "#### Operadores de pertenencia"
   ]
  },
  {
   "cell_type": "markdown",
   "id": "67fdbde0-c7ad-42a7-aac6-dcb64d772321",
   "metadata": {},
   "source": [
    "- IN → es el de pertenencia\n",
    "- NOT IN → es el que niega la pertenencia"
   ]
  },
  {
   "cell_type": "code",
   "execution_count": 8,
   "id": "03798e20-efcb-44e3-96d5-c5ef7547169e",
   "metadata": {},
   "outputs": [
    {
     "name": "stdout",
     "output_type": "stream",
     "text": [
      "Falso\n"
     ]
    }
   ],
   "source": [
    "# IN / NOT IN\n",
    "a = 4\n",
    "lista = [1,2,3,4,5,6]\n",
    "\n",
    "if a not in lista:\n",
    "    print(\"verdadero\")\n",
    "else:\n",
    "    print(\"Falso\")"
   ]
  },
  {
   "cell_type": "markdown",
   "id": "bde40ae3-cfa9-456b-a5c3-6aea2c23bfa6",
   "metadata": {},
   "source": [
    "#### EJERCICIO \n",
    "Escribir un código que solicite un valor por teclado, numérico entero y muestre un mensaje indicando si el valor es par o impar"
   ]
  },
  {
   "cell_type": "code",
   "execution_count": 3,
   "id": "cc433099-4e3f-432c-bf83-79542bee4e42",
   "metadata": {},
   "outputs": [
    {
     "name": "stdin",
     "output_type": "stream",
     "text": [
      "Ingrese un numero: 12\n"
     ]
    },
    {
     "name": "stdout",
     "output_type": "stream",
     "text": [
      "El numero 12  es par\n"
     ]
    }
   ],
   "source": [
    "a = int(input(\"Ingrese un numero:\"))\n",
    "r = a%2\n",
    "if r == 0: \n",
    "    print(\"El numero\",a,\" es par\")\n",
    "else:\n",
    "    print(\"El numero\", a, \"es impar\" )\n"
   ]
  },
  {
   "cell_type": "markdown",
   "id": "ac40aec2-9c53-49f9-97d2-650423d63d21",
   "metadata": {},
   "source": [
    "### Estructura while"
   ]
  },
  {
   "cell_type": "markdown",
   "id": "7cb60759-330e-4ec4-9927-2f571e836663",
   "metadata": {},
   "source": [
    "El while sirve para ver si se cumple una condición más de una vez y vallamos ejecutando cierto codigo siempre y cuando esa condición sea verdadera. \n",
    "\n",
    "Se empieza con la palabra reservada ***WHILE***."
   ]
  },
  {
   "cell_type": "code",
   "execution_count": 12,
   "id": "68186e9f-be0d-48d1-aa24-16060adeb6e8",
   "metadata": {},
   "outputs": [
    {
     "name": "stdout",
     "output_type": "stream",
     "text": [
      "valor de la variable: 0\n",
      "valor de la variable: 1\n",
      "valor de la variable: 2\n",
      "valor de la variable: 3\n",
      "valor de la variable: 4\n",
      "valor de la variable: 5\n",
      "fin del while\n",
      "valor final de la variable:  6\n"
     ]
    }
   ],
   "source": [
    "a = 0\n",
    "\n",
    "while a<=5:\n",
    "    print(\"valor de la variable: {}\".format(a))\n",
    "    a = a +1\n",
    "\n",
    "print(\"fin del while\")\n",
    "print(\"valor final de la variable: \", a)"
   ]
  },
  {
   "cell_type": "markdown",
   "id": "a5c1c504-c4e7-4ffd-bbe9-929e0229b296",
   "metadata": {},
   "source": [
    "La finalidad del while es ejecutar una serie de sentencias o el codigo que yo quiera ejecutar una determinada cantidad de veces, siempre y cuando la condición sea verdadera. "
   ]
  },
  {
   "cell_type": "markdown",
   "id": "1b19f8ec-a2b9-4f38-8201-d1907e93faed",
   "metadata": {},
   "source": [
    "#### Ejercicio \n",
    "Pedir el ingreso de números del 1 al 10 para finalizar\n",
    "Mostrar por pantalla:\n",
    "1) Las notas ingresadas\n",
    "2) La suma de las notas ingresadas\n",
    "3) el promedio de las notas ingresadas"
   ]
  },
  {
   "cell_type": "code",
   "execution_count": 5,
   "id": "0d5c2a91-caa0-4183-b5ea-e15efced0ac4",
   "metadata": {},
   "outputs": [
    {
     "name": "stdin",
     "output_type": "stream",
     "text": [
      "Ingrese la nota, -1 para finalizar:  10\n",
      "Ingrese la nota, -1 para finalizar:  9\n",
      "Ingrese la nota, -1 para finalizar:  8\n",
      "Ingrese la nota, -1 para finalizar:  2\n",
      "Ingrese la nota, -1 para finalizar:  -1\n"
     ]
    },
    {
     "name": "stdout",
     "output_type": "stream",
     "text": [
      "Notas ingresadas:  [10, 9, 8, 2]\n",
      "Suma de las notas: 29\n",
      "promedio de las notas: 7.25\n"
     ]
    }
   ],
   "source": [
    "notas = []\n",
    "nota = 0\n",
    "\n",
    "while nota != -1:\n",
    "    nota = int(input(\"Ingrese la nota, -1 para finalizar: \"))\n",
    "    if nota == -1:\n",
    "        break # Me permite salir de una estructura \n",
    "    notas.append(nota)\n",
    "print(\"Notas ingresadas: \", notas)\n",
    "print(\"Suma de las notas: {}\".format(sum(notas)))\n",
    "if len(notas) > 0:\n",
    "    print(\"promedio de las notas: {}\".format(sum(notas)/len(notas)))\n",
    "else:\n",
    "    print(\"no se ingreso ningun valor\")"
   ]
  },
  {
   "cell_type": "markdown",
   "id": "4291864c-2e8e-4a88-bf1f-aceed1509213",
   "metadata": {},
   "source": [
    "### Estructura FOR"
   ]
  },
  {
   "cell_type": "markdown",
   "id": "4339eb16-06ac-4d60-af19-c02142e69c79",
   "metadata": {},
   "source": [
    "Me permite hacer repeticiones para los que necesite .\n",
    "\n",
    "Se utiliza la palabra reservada ***FOR***.\n",
    "\n",
    "Debemos saber el valor de la repetición."
   ]
  },
  {
   "cell_type": "code",
   "execution_count": 6,
   "id": "f1d7637b-8576-4209-955f-d9d2d0506781",
   "metadata": {},
   "outputs": [
    {
     "name": "stdout",
     "output_type": "stream",
     "text": [
      "El valor 1 del iterador multiplicado por 10 es: 10\n",
      "El valor 2 del iterador multiplicado por 10 es: 20\n",
      "El valor 3 del iterador multiplicado por 10 es: 30\n",
      "El valor 4 del iterador multiplicado por 10 es: 40\n",
      "El valor 5 del iterador multiplicado por 10 es: 50\n",
      "Fin del ciclo\n"
     ]
    }
   ],
   "source": [
    "# Estructura de repetición\n",
    "lista = [1,2,3,4,5]\n",
    "\n",
    "for x in lista: # x = Iterador \n",
    "    print(\"El valor {} del iterador multiplicado por 10 es: {}\".format(x,x*10))\n",
    "\n",
    "print(\"Fin del ciclo\")"
   ]
  },
  {
   "cell_type": "markdown",
   "id": "856c9c6e-8710-4c33-b4a1-2b4b8c99fcd2",
   "metadata": {},
   "source": [
    "### RANGE"
   ]
  },
  {
   "cell_type": "markdown",
   "id": "0e5d063f-e220-4148-b1a4-56e95f1458b2",
   "metadata": {},
   "source": [
    "Me permite generar rangos. \n",
    "\n",
    "Incluye el desde pero no el hasta."
   ]
  },
  {
   "cell_type": "code",
   "execution_count": 24,
   "id": "bf6db5dd-0b3d-491f-b714-efd7c142222f",
   "metadata": {},
   "outputs": [
    {
     "name": "stdout",
     "output_type": "stream",
     "text": [
      "1\n",
      "2\n",
      "3\n",
      "4\n",
      "5\n"
     ]
    }
   ],
   "source": [
    "# Rango usando FOR \n",
    "# NO inckuye el hasta\n",
    "for x in range(1,6):\n",
    "    print(x)"
   ]
  },
  {
   "cell_type": "code",
   "execution_count": 25,
   "id": "bf4f5d0e-3a1f-4f6e-b4eb-5abb5e065f26",
   "metadata": {},
   "outputs": [
    {
     "name": "stdout",
     "output_type": "stream",
     "text": [
      "0\n",
      "1\n",
      "2\n"
     ]
    }
   ],
   "source": [
    "# RANGE con un solo argumento (lo toma como el HASTA)\n",
    "for x in range(3):\n",
    "    print(x)"
   ]
  },
  {
   "cell_type": "markdown",
   "id": "122e2c7b-24fe-4cb7-9220-144490efad15",
   "metadata": {},
   "source": [
    "El argumento es el valor que le pasamos a una función."
   ]
  },
  {
   "cell_type": "code",
   "execution_count": 7,
   "id": "8e3f8ff7-34dc-448b-a072-d24fb315db29",
   "metadata": {},
   "outputs": [
    {
     "name": "stdout",
     "output_type": "stream",
     "text": [
      "1\n",
      "3\n",
      "5\n",
      "7\n",
      "9\n"
     ]
    }
   ],
   "source": [
    "# RANGE con 3 argumentos\n",
    "for x in range(1,11,2): \n",
    "    print(x)"
   ]
  },
  {
   "cell_type": "code",
   "execution_count": 8,
   "id": "009c89df-ae0b-46f2-9b78-9449843921d7",
   "metadata": {},
   "outputs": [
    {
     "name": "stdout",
     "output_type": "stream",
     "text": [
      "11\n",
      "10\n",
      "9\n",
      "8\n",
      "7\n",
      "6\n",
      "5\n",
      "4\n",
      "3\n",
      "2\n"
     ]
    }
   ],
   "source": [
    "# RANGE con 3 argumentos invertidos\n",
    "for x in range(11,1,-1): # 11 = desde 1 = hasta -1 = salto\n",
    "    print(x)"
   ]
  }
 ],
 "metadata": {
  "kernelspec": {
   "display_name": "Python 3 (ipykernel)",
   "language": "python",
   "name": "python3"
  },
  "language_info": {
   "codemirror_mode": {
    "name": "ipython",
    "version": 3
   },
   "file_extension": ".py",
   "mimetype": "text/x-python",
   "name": "python",
   "nbconvert_exporter": "python",
   "pygments_lexer": "ipython3",
   "version": "3.11.7"
  }
 },
 "nbformat": 4,
 "nbformat_minor": 5
}
