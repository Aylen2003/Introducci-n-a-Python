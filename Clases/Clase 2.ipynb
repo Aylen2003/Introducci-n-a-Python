{
 "cells": [
  {
   "cell_type": "markdown",
   "id": "83f69413-e588-4d24-8bad-a7224cb0e289",
   "metadata": {},
   "source": [
    "Para seleccionar un tipo de celda, vamos a un desplegable que dice code v . Ahí tengo cuatro posibles opciones para trabajar:\n",
    "\n",
    "- **Code:**  codigo.\n",
    "- **Markdown:**  es equivalente a la celda de texto.\n",
    "- **Raw NB convert:** poner códigos en crudo, no lo vemos ahora.\n",
    "- **Heading**\n",
    "\n",
    "Vamos a trabajar con code y markdown."
   ]
  },
  {
   "cell_type": "markdown",
   "id": "13e22666-a44b-4f51-89fc-ce444e1b0f41",
   "metadata": {},
   "source": [
    "### Poner un texto (opción markdown)"
   ]
  },
  {
   "cell_type": "markdown",
   "id": "8acd715e-1206-4e03-885d-ac2a2bab30f6",
   "metadata": {},
   "source": [
    "CURSO PYTHON "
   ]
  },
  {
   "cell_type": "markdown",
   "id": "8305cedd-cc50-46bb-b2b3-e360d33531e6",
   "metadata": {},
   "source": [
    "### Dar formato al titulo"
   ]
  },
  {
   "cell_type": "markdown",
   "id": "b1bb910d-026f-4f18-a125-3f2f4561052c",
   "metadata": {},
   "source": [
    "# Curso Python 2024"
   ]
  },
  {
   "cell_type": "markdown",
   "id": "bb0c81a2-94af-4c6d-828d-26663021882e",
   "metadata": {},
   "source": [
    "A medidas que vamos poniendo más numerales se va achicando el titulo."
   ]
  },
  {
   "cell_type": "markdown",
   "id": "f0b91a5c-40b1-493b-9a12-ff3d7c2fd682",
   "metadata": {},
   "source": [
    "### Poner un texto en negrita"
   ]
  },
  {
   "cell_type": "markdown",
   "id": "c00002e0-f2ff-4b79-b945-db906bc3d271",
   "metadata": {},
   "source": [
    "**Este es un texto en negrita**"
   ]
  },
  {
   "cell_type": "markdown",
   "id": "18d18cfb-fea6-4f98-af88-8b9cc7ca94f1",
   "metadata": {},
   "source": [
    "No tiene que haber un espacio entre el * y la primera palabra."
   ]
  },
  {
   "cell_type": "markdown",
   "id": "81546bbc-ee85-4b40-9dd2-6e1e89321f9f",
   "metadata": {},
   "source": [
    "### Salto de linea"
   ]
  },
  {
   "cell_type": "markdown",
   "id": "8cda5470-ab4b-40af-bca8-4195e42d5c4b",
   "metadata": {},
   "source": [
    "<br>"
   ]
  },
  {
   "cell_type": "markdown",
   "id": "46912721-f1f9-4edf-889e-a2b963e9055e",
   "metadata": {},
   "source": [
    "Esto es para poner una linea de texto y abajo otra"
   ]
  },
  {
   "cell_type": "markdown",
   "id": "a58498eb-957e-472f-bf91-9851af61bc53",
   "metadata": {},
   "source": [
    "### Poner un texto inclinado"
   ]
  },
  {
   "cell_type": "markdown",
   "id": "758a4271-9983-4425-bc2b-968f2f8a1232",
   "metadata": {},
   "source": [
    "*Este es un texto inclinado*"
   ]
  },
  {
   "cell_type": "markdown",
   "id": "fc99be7d-4f90-4220-8919-e2310f6be538",
   "metadata": {},
   "source": [
    "### Poner un texto en negrita y inclinado"
   ]
  },
  {
   "cell_type": "markdown",
   "id": "20dca589-b84e-47a6-8b59-f8431b638fd2",
   "metadata": {},
   "source": [
    "***Puedo combinar texto en negrita e inclinado***"
   ]
  },
  {
   "cell_type": "markdown",
   "id": "3b7e7445-1ef4-4627-8b2d-94dd14246353",
   "metadata": {},
   "source": [
    "### Lista desordenada "
   ]
  },
  {
   "cell_type": "markdown",
   "id": "50266a64-674b-4161-9d85-64a800ce1e82",
   "metadata": {},
   "source": [
    "Así se llama en HTML."
   ]
  },
  {
   "cell_type": "markdown",
   "id": "dd883da2-6155-4d95-905d-4fe2558fd05b",
   "metadata": {},
   "source": [
    "Hace referencia a la viñeta que venga por defecto."
   ]
  },
  {
   "cell_type": "markdown",
   "id": "92d6789a-cbec-44ad-966a-c940a284fc6a",
   "metadata": {},
   "source": [
    "* opcion 1\n",
    "* opcion 2\n",
    "* opcion 3"
   ]
  },
  {
   "cell_type": "markdown",
   "id": "a1107d11-0b3c-4a47-b2b4-b0cb97ca6b62",
   "metadata": {},
   "source": [
    "### Lista ordenada"
   ]
  },
  {
   "cell_type": "markdown",
   "id": "78113696-5e1a-40d5-a936-2ecc7da1c8fb",
   "metadata": {},
   "source": [
    "Le decimos ordenada a aquellas que en lugar de tener viñetas, le podemos poner un número."
   ]
  },
  {
   "cell_type": "markdown",
   "id": "0fbbe12b-33ca-46a0-9c67-99f3734e13f9",
   "metadata": {},
   "source": [
    "1. item A\n",
    "2. Item B\n",
    "3. Item c"
   ]
  },
  {
   "cell_type": "markdown",
   "id": "4777047e-a6ac-4101-a375-d2618d48e39a",
   "metadata": {},
   "source": [
    "### Sintaxis Basica ###"
   ]
  },
  {
   "cell_type": "markdown",
   "id": "80f4b38d-bfc7-4045-82af-99c679e7ce38",
   "metadata": {},
   "source": [
    "***Poner comentarios***"
   ]
  },
  {
   "cell_type": "code",
   "execution_count": 3,
   "id": "1c0ff249-27fe-46b9-8435-87190134574e",
   "metadata": {},
   "outputs": [],
   "source": [
    "# esto es un comentario. "
   ]
  },
  {
   "cell_type": "markdown",
   "id": "3bf68111-6eb2-4dbc-b76d-7873c5f9513a",
   "metadata": {},
   "source": [
    "***Funcíon para demostrar datos.***"
   ]
  },
  {
   "cell_type": "code",
   "execution_count": 4,
   "id": "02b9170d-db14-45f0-b2d1-e6104035486e",
   "metadata": {},
   "outputs": [
    {
     "name": "stdout",
     "output_type": "stream",
     "text": [
      "Hola mundo\n"
     ]
    }
   ],
   "source": [
    "print('Hola mundo')"
   ]
  },
  {
   "cell_type": "markdown",
   "id": "cedd1a12-d540-497e-9a28-750cdee465d1",
   "metadata": {},
   "source": [
    "***Variables***"
   ]
  },
  {
   "cell_type": "markdown",
   "id": "365a1780-f4ca-44b4-8a9e-1a990ac5d1f3",
   "metadata": {},
   "source": [
    "Sirve para almacenar temporalmente un valor de cualquier tipo de dato. "
   ]
  },
  {
   "cell_type": "markdown",
   "id": "8fad6207-4f4d-43d1-b2e8-6a9a6a5a7b4d",
   "metadata": {},
   "source": [
    "Las variables aceptan todo tipo de datos que maneje el lenguaje. "
   ]
  },
  {
   "cell_type": "markdown",
   "id": "c028fd86-9253-4c3f-bcd0-33ddb42461e6",
   "metadata": {},
   "source": [
    "Cuando creamos una variable en programación decimos que la estamos declarando."
   ]
  },
  {
   "cell_type": "markdown",
   "id": "0be1ea92-3cc1-4391-92f6-8188ef83e60f",
   "metadata": {},
   "source": [
    "Para declarar una variable tenemos que generar dos elementos:"
   ]
  },
  {
   "cell_type": "markdown",
   "id": "ff10c27c-4868-4b6c-9113-e246a2824ca9",
   "metadata": {},
   "source": [
    "- El nombre (identificador) de la variable."
   ]
  },
  {
   "cell_type": "markdown",
   "id": "ae8ba71d-3c95-428e-8933-eb2e2d644416",
   "metadata": {},
   "source": [
    "Todas la variables tienen que tener un nombre "
   ]
  },
  {
   "cell_type": "markdown",
   "id": "5bd8824f-85b1-40dc-9e6a-35f053356306",
   "metadata": {},
   "source": [
    "- Valor"
   ]
  },
  {
   "cell_type": "markdown",
   "id": "407ca63a-7bce-4c15-b377-f67734422861",
   "metadata": {},
   "source": [
    "El nombre de la variable NO puede empezar con un numero ni por un carácter raro. "
   ]
  },
  {
   "cell_type": "markdown",
   "id": "4ecd3e35-946c-490c-a26f-aee77b9de371",
   "metadata": {},
   "source": [
    "Python diferencia entre mayúsculas y minúsculas es case sensitive. "
   ]
  },
  {
   "cell_type": "markdown",
   "id": "17522fca-4f5d-4e45-ab65-587d235ff01c",
   "metadata": {},
   "source": [
    "Lo aconsejable es que a  nuestra variable le demos un nombre simple."
   ]
  },
  {
   "cell_type": "markdown",
   "id": "2e115500-97ca-4158-bac1-089e988a7cf2",
   "metadata": {},
   "source": [
    "Siempre en los lenguajes de programación se va ejecutando el codigo de arriba hacia abajo y de izquierda a derecha. "
   ]
  },
  {
   "cell_type": "markdown",
   "id": "7186c2e6-f99c-4a36-8119-661aafb9532e",
   "metadata": {},
   "source": [
    "****Ejemplos****"
   ]
  },
  {
   "cell_type": "markdown",
   "id": "4e22a908-8a99-46d2-937b-dcba2768edaa",
   "metadata": {},
   "source": [
    "# Declaro un par de variables. \n",
    "variable1 = 59\n",
    "variable2 = 'Esto es un texto muy largo'\n",
    "\n",
    "# Muestro una variable por pantalla\n",
    "print(variable2)"
   ]
  },
  {
   "cell_type": "code",
   "execution_count": 14,
   "id": "b4dcf0f5-2624-4596-b0ca-8a8ac80c93ab",
   "metadata": {},
   "outputs": [
    {
     "name": "stdout",
     "output_type": "stream",
     "text": [
      "59\n"
     ]
    }
   ],
   "source": [
    "print(variable1)"
   ]
  },
  {
   "cell_type": "markdown",
   "id": "8422a410-dc08-431f-96a7-ebf31a1d0a91",
   "metadata": {},
   "source": [
    "****Reutilizar Variables****"
   ]
  },
  {
   "cell_type": "code",
   "execution_count": 20,
   "id": "c55d9b32-a748-4cd4-acd2-130f7bedd1fe",
   "metadata": {},
   "outputs": [
    {
     "name": "stdout",
     "output_type": "stream",
     "text": [
      "Cambio el valor de la variable 2\n",
      "cambiamos a pedido Martin\n"
     ]
    }
   ],
   "source": [
    "# Puedo reutilizar una variable\n",
    "print(variable2)\n",
    "variable2 = 'cambiamos a pedido Martin'\n",
    "print(variable2)"
   ]
  },
  {
   "cell_type": "markdown",
   "id": "6c4a8dfb-5057-4ce8-9e76-6e22542e70a6",
   "metadata": {},
   "source": [
    "En realidad nosotros no estamos reutilizando una variable lo que estamos haciendo es volver  a crear una variable con un nombre que ya había usado antes y eliminar lo que teníamos anteriormente."
   ]
  },
  {
   "cell_type": "markdown",
   "id": "7425691c-adf0-457e-adc8-13ba973d66f3",
   "metadata": {},
   "source": [
    "****Asignación de una variable a otra****"
   ]
  },
  {
   "cell_type": "code",
   "execution_count": 21,
   "id": "0b8499cb-d091-49c0-b9be-8fd4cb4ce085",
   "metadata": {},
   "outputs": [
    {
     "name": "stdout",
     "output_type": "stream",
     "text": [
      "Cambio el valor de la variable 2\n",
      "cambiamos a pedido Martin\n"
     ]
    }
   ],
   "source": [
    "# A una variable, le puedo asignar el contenido de otra.\n",
    "variable3 = variable2\n",
    "variable2 = 'Cambio el valor de la variable 2'\n",
    "print(variable2)\n",
    "print(variable3)"
   ]
  },
  {
   "cell_type": "markdown",
   "id": "37e1f65a-08ed-4514-ab7f-f22ab91973e1",
   "metadata": {},
   "source": [
    "****Asignación de valores en línea****"
   ]
  },
  {
   "cell_type": "markdown",
   "id": "449a453b-533e-4da7-b7f7-0d4e1391a4c7",
   "metadata": {},
   "source": [
    "*****Opcion 1*****"
   ]
  },
  {
   "cell_type": "code",
   "execution_count": 22,
   "id": "5f19c576-23a0-448f-aac3-35d5171daf44",
   "metadata": {},
   "outputs": [
    {
     "name": "stdout",
     "output_type": "stream",
     "text": [
      "Mate\n"
     ]
    }
   ],
   "source": [
    "# Asignación de valores en linea. \n",
    "# Opción 1: asignación valores diferentes a cada variable\n",
    "var1,var2,var3 = 12, 'Mate',45\n",
    "print(var2)"
   ]
  },
  {
   "cell_type": "markdown",
   "id": "73c07996-7822-4217-9ffe-0ac84f43c793",
   "metadata": {},
   "source": [
    "*****Opción 2*****"
   ]
  },
  {
   "cell_type": "code",
   "execution_count": 23,
   "id": "ffb414bc-f2e0-494b-b9c0-3b2ef10aa889",
   "metadata": {},
   "outputs": [
    {
     "name": "stdout",
     "output_type": "stream",
     "text": [
      "Hola mundo\n"
     ]
    }
   ],
   "source": [
    "# Opción 2: asigno el mismo valor a todas las variables\n",
    "var1 =var2 = var3 = 'Hola mundo'\n",
    "print(var3)"
   ]
  },
  {
   "cell_type": "markdown",
   "id": "aac5d9f5-871c-4ad3-aec2-af6b5b4e9891",
   "metadata": {},
   "source": [
    "### Función TYPE"
   ]
  },
  {
   "cell_type": "markdown",
   "id": "5645a7af-c11e-4d8f-b8e6-7d68f02be95a",
   "metadata": {},
   "source": [
    "Esta función me devuelve el tipo de dato con el que estoy trabajando."
   ]
  },
  {
   "cell_type": "code",
   "execution_count": 6,
   "id": "202dee93-3f6d-4a95-80d9-2a16325782e7",
   "metadata": {},
   "outputs": [],
   "source": [
    "a = 12\n",
    "b = 34.6\n",
    "c = 'Ya vamos al recreo'"
   ]
  },
  {
   "cell_type": "code",
   "execution_count": 27,
   "id": "d768c05a-3f69-42e7-aa25-804d27b86604",
   "metadata": {},
   "outputs": [
    {
     "name": "stdout",
     "output_type": "stream",
     "text": [
      "<class 'int'>\n",
      "<class 'float'>\n",
      "<class 'str'>\n"
     ]
    }
   ],
   "source": [
    "print(type(a))\n",
    "print(type(b))\n",
    "print(type(c))"
   ]
  },
  {
   "cell_type": "markdown",
   "id": "4fb1e506-2ec6-476c-aa7a-9b92bae1a5c9",
   "metadata": {},
   "source": [
    "### Tipos de datos"
   ]
  },
  {
   "cell_type": "markdown",
   "id": "680ff587-cd98-471f-b4b1-4781fd3254b7",
   "metadata": {},
   "source": [
    "* **Numericos**\n",
    "* **Secuenciales:** puedo guardar muchos datos a dentro de una variable de alguna manera particular y van a estar en forma de secuencia o indexado\n",
    "* **Mapeo:** diccionarios\n",
    "* **Colecciones:** son un tipo de dato que están guardados con una particularidad\n",
    "* **Texto**\n",
    "* **Booleanos**"
   ]
  },
  {
   "cell_type": "markdown",
   "id": "cf44dc8e-ff35-412e-ba49-fda6f6a3898d",
   "metadata": {},
   "source": [
    "***Arrastre de tipo de dato***"
   ]
  },
  {
   "cell_type": "code",
   "execution_count": 7,
   "id": "71a8898d-acc9-498c-a6cb-3753060d358b",
   "metadata": {},
   "outputs": [
    {
     "name": "stdout",
     "output_type": "stream",
     "text": [
      "<class 'float'>\n",
      "15.0\n"
     ]
    }
   ],
   "source": [
    "a = 12.6\n",
    "b = 2.4\n",
    "\n",
    "print(type(a+b))\n",
    "print(a+b)"
   ]
  },
  {
   "cell_type": "markdown",
   "id": "143931d6-5e07-4dcd-9b56-60e7f54bdbed",
   "metadata": {},
   "source": [
    "***Complejos***"
   ]
  },
  {
   "cell_type": "code",
   "execution_count": 8,
   "id": "e46b0ada-709e-4731-8ec3-d6500c675526",
   "metadata": {},
   "outputs": [
    {
     "name": "stdout",
     "output_type": "stream",
     "text": [
      "(2+5j)\n",
      "<class 'complex'>\n"
     ]
    }
   ],
   "source": [
    "d = 2+5j\n",
    "print(d)\n",
    "print(type(d))"
   ]
  },
  {
   "cell_type": "markdown",
   "id": "e79f8009-487d-4d1c-90a6-85af44810d3b",
   "metadata": {},
   "source": [
    "***Objetos***"
   ]
  },
  {
   "cell_type": "markdown",
   "id": "ab719e95-6b04-49fc-b007-00994a0d77c1",
   "metadata": {},
   "source": [
    "Son elementos que tienen atributos y características. \n",
    "<br>\n",
    "\r\n",
    "Además tienen funciones (métodos)."
   ]
  },
  {
   "cell_type": "code",
   "execution_count": null,
   "id": "5eb4c4b6-9d07-490e-9f64-5fa414ccc328",
   "metadata": {},
   "outputs": [],
   "source": [
    "# Sintaxis\n",
    "nom = objeto.metodo"
   ]
  },
  {
   "cell_type": "code",
   "execution_count": 10,
   "id": "205a99a8-6187-4879-93d1-684d11cc7786",
   "metadata": {},
   "outputs": [
    {
     "name": "stdout",
     "output_type": "stream",
     "text": [
      "La parte entera del numero (2+5j) es: 2.0\n"
     ]
    }
   ],
   "source": [
    "# Métodos de un dato complejo\n",
    "a = d.real\n",
    "print('La parte entera del numero', d , 'es:', a)"
   ]
  },
  {
   "cell_type": "code",
   "execution_count": 11,
   "id": "f263d016-c7de-4407-8500-fa77c80f64c5",
   "metadata": {},
   "outputs": [
    {
     "name": "stdout",
     "output_type": "stream",
     "text": [
      "5.0\n"
     ]
    }
   ],
   "source": [
    "b = d.imag\n",
    "print(b)"
   ]
  },
  {
   "cell_type": "markdown",
   "id": "09aa18ea-ad0f-45fa-a3d0-12ad4fb8581d",
   "metadata": {},
   "source": [
    "### Conversión de tipo"
   ]
  },
  {
   "cell_type": "markdown",
   "id": "e0fd251d-2a13-4e83-9509-e33f878aace0",
   "metadata": {},
   "source": [
    "* int () → convertir en entero\n",
    "* float () → convertir a flotante\n",
    "* complex ()\n",
    "* list () → convertir a lista\n",
    "* str ()"
   ]
  },
  {
   "cell_type": "code",
   "execution_count": 41,
   "id": "6435c353-2eb4-4479-9d4a-25d7cb523ce5",
   "metadata": {},
   "outputs": [
    {
     "name": "stdout",
     "output_type": "stream",
     "text": [
      "4\n",
      "<class 'int'>\n",
      "4.0\n",
      "4\n"
     ]
    }
   ],
   "source": [
    "# Ejemplos de conversion\n",
    "a = 4\n",
    "print (a)\n",
    "print(type(a))\n",
    "\n",
    "# cambio el formato solo para la salida\n",
    "print(float(a))\n",
    "\n",
    "# verificamos que la variable no fue modificada\n",
    "print(a)"
   ]
  },
  {
   "cell_type": "code",
   "execution_count": 42,
   "id": "0b1c7393-52b0-4af1-9f44-0062009c66b3",
   "metadata": {},
   "outputs": [
    {
     "name": "stdout",
     "output_type": "stream",
     "text": [
      "4.0\n"
     ]
    }
   ],
   "source": [
    "# Puedo modificar el tipo directamente sobre la variable\n",
    "a = float(a)\n",
    "print(a)"
   ]
  },
  {
   "cell_type": "code",
   "execution_count": 2,
   "id": "d9780a97-1f93-488c-a565-ed1704d17e62",
   "metadata": {},
   "outputs": [
    {
     "name": "stdout",
     "output_type": "stream",
     "text": [
      "45\n"
     ]
    }
   ],
   "source": [
    "# conversión INT\n",
    "b = 45.6\n",
    "print(int(b))"
   ]
  },
  {
   "cell_type": "code",
   "execution_count": 6,
   "id": "a8fcf7b3-da55-43a1-9f8a-203f510a4698",
   "metadata": {},
   "outputs": [
    {
     "name": "stdout",
     "output_type": "stream",
     "text": [
      "(12+0j)\n"
     ]
    }
   ],
   "source": [
    "# conversión complex\n",
    "c = 12\n",
    "print(complex(c))"
   ]
  },
  {
   "cell_type": "code",
   "execution_count": 9,
   "id": "cf63f55e-e9b8-4b9b-a881-b2d66c6e20fc",
   "metadata": {},
   "outputs": [
    {
     "name": "stdout",
     "output_type": "stream",
     "text": [
      "[23, 56, 'texto largo', 56.9]\n"
     ]
    }
   ],
   "source": [
    "# conversión list\n",
    "t = 23,56,'texto largo', 56.9\n",
    "print(list(t))"
   ]
  },
  {
   "cell_type": "code",
   "execution_count": 10,
   "id": "13a3d7aa-96de-4583-a62d-fc79109d9ee9",
   "metadata": {},
   "outputs": [
    {
     "name": "stdout",
     "output_type": "stream",
     "text": [
      "(45.7, 34)\n"
     ]
    }
   ],
   "source": [
    "# conversión str\n",
    "h = 45.7,34\n",
    "print(str(h))"
   ]
  },
  {
   "cell_type": "markdown",
   "id": "724b1e89-0c8a-42ed-9219-48f3feb0e880",
   "metadata": {},
   "source": [
    "### Operadores aritmeticos"
   ]
  },
  {
   "cell_type": "markdown",
   "id": "9acd151a-eb35-4158-8c1d-f32585ebf92b",
   "metadata": {},
   "source": [
    "* Suma (+)\n",
    "* Resta (-)\n",
    "* Negación (-)\n",
    "* Multiplicación (*)\n",
    "* Exponente (**)\n",
    "* División (/)\n",
    "* División entera (//)\n",
    "* Resto de la división (%)\n",
    "* Operador de asignación (=)"
   ]
  },
  {
   "cell_type": "code",
   "execution_count": 43,
   "id": "23e29d5f-b8ba-430b-991b-8847f3da5afd",
   "metadata": {},
   "outputs": [],
   "source": [
    "# Ejemplo de uso de operadores\n",
    "v1 = 15\n",
    "v2 = 7"
   ]
  },
  {
   "cell_type": "code",
   "execution_count": 44,
   "id": "e0f44c8d-d8b4-48b7-8af7-879f0a965a3e",
   "metadata": {},
   "outputs": [
    {
     "name": "stdout",
     "output_type": "stream",
     "text": [
      "22\n"
     ]
    }
   ],
   "source": [
    "# Suma\n",
    "resultado = v1 + v2\n",
    "print(resultado)"
   ]
  },
  {
   "cell_type": "code",
   "execution_count": 45,
   "id": "e9b046a6-05ae-42b2-ae79-8da7bd9f3eab",
   "metadata": {},
   "outputs": [
    {
     "name": "stdout",
     "output_type": "stream",
     "text": [
      "0\n"
     ]
    }
   ],
   "source": [
    "# Resto de la divición\n",
    "a = 12\n",
    "resto = a % 2\n",
    "print(resto)"
   ]
  },
  {
   "cell_type": "code",
   "execution_count": 9,
   "id": "d3da53a1-ed1d-4f99-b684-0f14880b84b6",
   "metadata": {},
   "outputs": [
    {
     "name": "stdout",
     "output_type": "stream",
     "text": [
      "16\n"
     ]
    }
   ],
   "source": [
    "# RESTA\n",
    "a = 13\n",
    "b = 29\n",
    "resta = b - a\n",
    "print(resta)"
   ]
  },
  {
   "cell_type": "code",
   "execution_count": 11,
   "id": "6dd19d59-488f-43fc-a10c-0c9b4a919d6b",
   "metadata": {},
   "outputs": [
    {
     "name": "stdout",
     "output_type": "stream",
     "text": [
      "-46\n"
     ]
    }
   ],
   "source": [
    "# Negación\n",
    "a = -12\n",
    "b = 34\n",
    "negación = a - b\n",
    "print(negación)"
   ]
  },
  {
   "cell_type": "code",
   "execution_count": 12,
   "id": "b2f598a7-1f1a-41d6-b7cc-5bd61783c63d",
   "metadata": {},
   "outputs": [
    {
     "name": "stdout",
     "output_type": "stream",
     "text": [
      "125\n"
     ]
    }
   ],
   "source": [
    "# Multiplicación\n",
    "a = 25\n",
    "b = 5\n",
    "multi = a * b\n",
    "print(multi)"
   ]
  },
  {
   "cell_type": "code",
   "execution_count": 13,
   "id": "736ebded-d3a0-4d5f-aa6c-0e64ba03c7a1",
   "metadata": {},
   "outputs": [
    {
     "name": "stdout",
     "output_type": "stream",
     "text": [
      "216\n"
     ]
    }
   ],
   "source": [
    "# Exponente\n",
    "a = 6\n",
    "exponente = 6**3\n",
    "print(exponente)"
   ]
  },
  {
   "cell_type": "code",
   "execution_count": 16,
   "id": "52357ec5-6918-4a34-b538-c27ce4173e79",
   "metadata": {},
   "outputs": [
    {
     "name": "stdout",
     "output_type": "stream",
     "text": [
      "22.25\n"
     ]
    }
   ],
   "source": [
    "# División\n",
    "a = 4\n",
    "b = 89\n",
    "division = b / a\n",
    "print(division)"
   ]
  },
  {
   "cell_type": "code",
   "execution_count": 18,
   "id": "bc460655-49c2-4ff2-bcd4-8bd6c88931c3",
   "metadata": {},
   "outputs": [
    {
     "name": "stdout",
     "output_type": "stream",
     "text": [
      "5.0\n"
     ]
    }
   ],
   "source": [
    "# División entera\n",
    "a = 23.4\n",
    "b = 4\n",
    "entera = a // b\n",
    "print(entera)"
   ]
  },
  {
   "cell_type": "markdown",
   "id": "37de66cf-a56d-4d71-baf0-0ab76837692a",
   "metadata": {},
   "source": [
    "### Operadores relacionales"
   ]
  },
  {
   "cell_type": "markdown",
   "id": "420335e0-4067-4fbc-b467-b7af48a39fbe",
   "metadata": {},
   "source": [
    "* Igual que (==)\n",
    "* Distinto que (!=)\n",
    "* Menor que (<)\n",
    "* Mayor que (>)\n",
    "* Menor o igual (<=)\n",
    "* Mayor o igual (>=)"
   ]
  },
  {
   "cell_type": "code",
   "execution_count": 48,
   "id": "4204aae0-7c0b-43bb-be1f-7c34186446dc",
   "metadata": {},
   "outputs": [
    {
     "name": "stdout",
     "output_type": "stream",
     "text": [
      "True\n"
     ]
    }
   ],
   "source": [
    "# Igual que\n",
    "a = 4\n",
    "b = 4\n",
    "\n",
    "print(a==b)"
   ]
  },
  {
   "cell_type": "code",
   "execution_count": 50,
   "id": "c97d2ae7-375b-4a3c-a804-1301a65901aa",
   "metadata": {},
   "outputs": [
    {
     "name": "stdout",
     "output_type": "stream",
     "text": [
      "True\n"
     ]
    }
   ],
   "source": [
    "# Distinto que\n",
    "c = 'verde'\n",
    "d = 'rojo'\n",
    "print(c!=d)"
   ]
  },
  {
   "cell_type": "code",
   "execution_count": 20,
   "id": "b7bc4a09-31cc-4937-ac23-52e7c3ebcab7",
   "metadata": {},
   "outputs": [
    {
     "name": "stdout",
     "output_type": "stream",
     "text": [
      "False\n"
     ]
    }
   ],
   "source": [
    "# Menor que \n",
    "f = 56\n",
    "e = 23\n",
    "print(f < e)"
   ]
  },
  {
   "cell_type": "code",
   "execution_count": 21,
   "id": "6d17dc84-3799-4db0-983f-cf978393bee2",
   "metadata": {},
   "outputs": [
    {
     "name": "stdout",
     "output_type": "stream",
     "text": [
      "True\n"
     ]
    }
   ],
   "source": [
    "# Mayor que \n",
    "r = 234\n",
    "g = 45\n",
    "print(r > g)"
   ]
  },
  {
   "cell_type": "code",
   "execution_count": 22,
   "id": "4e912316-0880-4a4c-ab7c-ff320847b09b",
   "metadata": {},
   "outputs": [
    {
     "name": "stdout",
     "output_type": "stream",
     "text": [
      "True\n"
     ]
    }
   ],
   "source": [
    "# Menor o igual que\n",
    "p = 45\n",
    "h = 45\n",
    "print(p <= h)"
   ]
  },
  {
   "cell_type": "code",
   "execution_count": 23,
   "id": "95685774-c949-4f5c-af06-7d4ec4b09b85",
   "metadata": {},
   "outputs": [
    {
     "name": "stdout",
     "output_type": "stream",
     "text": [
      "True\n"
     ]
    }
   ],
   "source": [
    "# Mayor o igual que\n",
    "j = 789\n",
    "t = 678\n",
    "print(j >= t)"
   ]
  },
  {
   "cell_type": "markdown",
   "id": "876c9c66-ff0a-43c8-a497-579ce03ec808",
   "metadata": {},
   "source": [
    "### Operadores Logicos"
   ]
  },
  {
   "cell_type": "markdown",
   "id": "058c6fac-1c7c-4255-929f-d5b2069adeba",
   "metadata": {},
   "source": [
    "* and\n",
    "* or\n",
    "* NOT"
   ]
  },
  {
   "cell_type": "code",
   "execution_count": 54,
   "id": "7967140b-823f-45c4-937d-7f24e0662ad7",
   "metadata": {},
   "outputs": [
    {
     "name": "stdout",
     "output_type": "stream",
     "text": [
      "Bienvenido Gillermo a la clase de Pyton\n"
     ]
    }
   ],
   "source": [
    "# Metodo Format\n",
    "nombre = 'Gillermo'\n",
    "curso = 'Pyton'\n",
    "print(\"Bienvenido {} a la clase de {}\".format(nombre,curso))"
   ]
  },
  {
   "cell_type": "code",
   "execution_count": 56,
   "id": "44d6cffc-691b-4f96-a530-a941e99555e0",
   "metadata": {},
   "outputs": [
    {
     "name": "stdout",
     "output_type": "stream",
     "text": [
      "AND es verdadero si y solo si, ambas expresiones son verdaderas: False\n"
     ]
    }
   ],
   "source": [
    "# And\n",
    "a = 3\n",
    "b = 10\n",
    "\n",
    "print(\"AND es verdadero si y solo si, ambas expresiones son verdaderas: {}\".format(a==4 and b==10))"
   ]
  },
  {
   "cell_type": "code",
   "execution_count": 58,
   "id": "8d752a2b-72be-4aaf-ab90-565c4b8a5407",
   "metadata": {},
   "outputs": [
    {
     "name": "stdout",
     "output_type": "stream",
     "text": [
      "OR es verdadero si al menos una de las expresiones es verdaderas: False\n"
     ]
    }
   ],
   "source": [
    "# OR\n",
    "a = 3\n",
    "b = 10\n",
    "print(\"OR es verdadero si al menos una de las expresiones es verdaderas: {}\".format(a==4 or b==11))"
   ]
  },
  {
   "cell_type": "code",
   "execution_count": 59,
   "id": "fbcb147f-1461-40f5-bd30-4c68268fb0cf",
   "metadata": {},
   "outputs": [
    {
     "name": "stdout",
     "output_type": "stream",
     "text": [
      "Not modifica el valor booleano de una expresion: False\n"
     ]
    }
   ],
   "source": [
    "# NOT\n",
    "g = 2\n",
    "print(\"Not modifica el valor booleano de una expresion: {}\".format(not g==2))"
   ]
  }
 ],
 "metadata": {
  "kernelspec": {
   "display_name": "Python 3 (ipykernel)",
   "language": "python",
   "name": "python3"
  },
  "language_info": {
   "codemirror_mode": {
    "name": "ipython",
    "version": 3
   },
   "file_extension": ".py",
   "mimetype": "text/x-python",
   "name": "python",
   "nbconvert_exporter": "python",
   "pygments_lexer": "ipython3",
   "version": "3.11.7"
  }
 },
 "nbformat": 4,
 "nbformat_minor": 5
}
