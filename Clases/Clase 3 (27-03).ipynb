{
 "cells": [
  {
   "cell_type": "markdown",
   "id": "93b8dc69-c2ed-42fd-aba8-d41eb39ae6f3",
   "metadata": {},
   "source": [
    "# Titulo al estilo HTML"
   ]
  },
  {
   "cell_type": "markdown",
   "id": "57c81d53-1b94-4534-b7a3-5ab252c4c82f",
   "metadata": {},
   "source": [
    "<div class = \"alert alert-info text-left\">\n",
    " <h3>Clase de hoy </h3>\n",
    "<div>"
   ]
  },
  {
   "cell_type": "markdown",
   "id": "fb6a3052-848e-4922-8829-292bbc08c6b7",
   "metadata": {},
   "source": [
    "### Metodo"
   ]
  },
  {
   "cell_type": "markdown",
   "id": "a3281b58-215f-4820-bfd3-d9b97d4e14bc",
   "metadata": {},
   "source": [
    "Es una funcionalidad que tienen las clases. \r\n",
    "\r\n",
    "Pertenece a los objetos. \r\n",
    "\r\n",
    "Python ve todo como objetos, las variables son objetos.\r\n",
    "\r\n",
    "Las funciones varían dependiendo del tipo de dato que contenga la variable."
   ]
  },
  {
   "cell_type": "markdown",
   "id": "af879876-4b53-4e02-ae4d-f6ae1a9a03d8",
   "metadata": {},
   "source": [
    "### Ejemplo de uso de AND con tres expresiones"
   ]
  },
  {
   "cell_type": "code",
   "execution_count": 1,
   "id": "96292fd9-6587-4c4f-8313-58ca85689267",
   "metadata": {},
   "outputs": [
    {
     "name": "stdout",
     "output_type": "stream",
     "text": [
      "False\n"
     ]
    }
   ],
   "source": [
    "v1 = 12\n",
    "v2 = 5\n",
    "v3 = 33\n",
    "print(v1==12 and v2==5 and v3==23)"
   ]
  },
  {
   "cell_type": "markdown",
   "id": "8985a71f-4cc4-4ab5-8dd3-1ae4a93308b3",
   "metadata": {},
   "source": [
    "El triple igual (===) establece si dos objetos son iguales"
   ]
  },
  {
   "cell_type": "code",
   "execution_count": 8,
   "id": "8ef5b1f7-9eed-4bbc-ad94-3c43f5346d9c",
   "metadata": {},
   "outputs": [
    {
     "name": "stdout",
     "output_type": "stream",
     "text": [
      "True\n"
     ]
    }
   ],
   "source": [
    "# Ejemplo de uso de AND con tres expresiones\n",
    "v1 = 12\n",
    "v2 = 5\n",
    "v3 = 33\n",
    "print(v1==12 and v2==5 and v3==33)"
   ]
  },
  {
   "cell_type": "markdown",
   "id": "1a8a1c38-cd71-47e4-913d-7bc333e01b0b",
   "metadata": {},
   "source": [
    "### Ingreso de datos por teclado"
   ]
  },
  {
   "cell_type": "markdown",
   "id": "f51cd0ee-671c-4c2c-a9dc-d66f73e3c4ab",
   "metadata": {},
   "source": [
    " Para ingresar datos por teclado, usamos la función INPUT"
   ]
  },
  {
   "cell_type": "code",
   "execution_count": 1,
   "id": "d89e5c69-a6f4-4522-9090-d7bd26838dbf",
   "metadata": {},
   "outputs": [
    {
     "name": "stdin",
     "output_type": "stream",
     "text": [
      "Ingrese un valor numérico:  12\n"
     ]
    },
    {
     "name": "stdout",
     "output_type": "stream",
     "text": [
      "El valor ingresado por teclado es: 12\n",
      "<class 'int'>\n"
     ]
    }
   ],
   "source": [
    "# Solicitamos un valor numérico\n",
    "a = int(input('Ingrese un valor numérico: '))\n",
    "print (\"El valor ingresado por teclado es: {}\".format(a))\n",
    "\n",
    "print(type(a))"
   ]
  },
  {
   "cell_type": "markdown",
   "id": "9025fc5c-8b34-4b62-a3a7-7aed61c464e0",
   "metadata": {},
   "source": [
    "La función INPUT me va habilitar ingresar un valor, pero hay que guardarlo. \n",
    "<br>\n",
    "Todo lo que ingrese por la función INPUT va a entrar en formato de string."
   ]
  },
  {
   "cell_type": "markdown",
   "id": "15fa0340-17de-4f00-875b-cf0de3c9ddfc",
   "metadata": {},
   "source": [
    "### Ejercicio"
   ]
  },
  {
   "cell_type": "code",
   "execution_count": 11,
   "id": "b7c17256-4b3d-4839-85e9-f174f71ffd92",
   "metadata": {},
   "outputs": [
    {
     "name": "stdin",
     "output_type": "stream",
     "text": [
      "Ingrese el radio del circulo 23\n"
     ]
    },
    {
     "name": "stdout",
     "output_type": "stream",
     "text": [
      "1661.0600000000002\n"
     ]
    }
   ],
   "source": [
    "# Ejercicio propuesto: escribir un script que solicite al usuario el valor del\n",
    "# radio de un circulo y calcular la superficie. mostrar el resultado en pantalla\n",
    "radio=float(input(\"Ingrese el radio del circulo\"))\n",
    "superficie=3.14*(radio**2)\n",
    "print(superficie)"
   ]
  },
  {
   "cell_type": "markdown",
   "id": "9fea92a0-722e-40a2-9915-2718735eb4df",
   "metadata": {},
   "source": [
    "### Listas"
   ]
  },
  {
   "cell_type": "markdown",
   "id": "583867dd-82f3-4a27-ace7-321ff5b330e4",
   "metadata": {},
   "source": [
    "Las listas me permiten almacenar distintos tipos datos bajo un mismo identificador.\n",
    "<br>\n",
    "Cada valor almacenado dentro de la lista, se llama elemento debe ir separado por una coma. \n",
    "<br>\n",
    "Pertenece al tipo colección."
   ]
  },
  {
   "cell_type": "code",
   "execution_count": 2,
   "id": "ce5fee6f-f893-49ad-8c0f-1d5cf48d1faa",
   "metadata": {},
   "outputs": [
    {
     "name": "stdout",
     "output_type": "stream",
     "text": [
      "[1, 2, 3.14, 4, 5, 6]\n",
      "<class 'list'>\n",
      "<class 'float'>\n"
     ]
    }
   ],
   "source": [
    "numeros = [1,2,3.14,4,5,6]\n",
    "print(numeros)\n",
    "\n",
    "print(type(numeros))\n",
    "\n",
    "print(type(numeros[2]))"
   ]
  },
  {
   "cell_type": "markdown",
   "id": "65c26d2d-a775-4a6c-8f24-2f7a184cf7c3",
   "metadata": {},
   "source": [
    "Para acceder a una lista, usamos un índice.  \n",
    "Python por defecto pones índices  de forma numérica."
   ]
  },
  {
   "cell_type": "code",
   "execution_count": 19,
   "id": "bf32cd9b-7aee-4f97-b269-ee544a023b43",
   "metadata": {},
   "outputs": [
    {
     "name": "stdout",
     "output_type": "stream",
     "text": [
      "[45, 12, 8, 'Hola', 51.15, [3, 2, 1]]\n"
     ]
    }
   ],
   "source": [
    "# Las listas pueden contener elementos de diferentes tipos\n",
    "lista1 = [45,12,8,'Hola',51.15,[3,2,1]]\n",
    "print(lista1)"
   ]
  },
  {
   "cell_type": "code",
   "execution_count": 21,
   "id": "1e8e0aa0-23c0-466f-b043-c2443e3f4184",
   "metadata": {},
   "outputs": [
    {
     "name": "stdout",
     "output_type": "stream",
     "text": [
      "Hola\n",
      "2\n"
     ]
    }
   ],
   "source": [
    "print(lista1[3])\n",
    "print(lista1[5][1])"
   ]
  },
  {
   "cell_type": "markdown",
   "id": "de86f925-f604-4583-93c5-9126f80b6eb2",
   "metadata": {},
   "source": [
    "podemos tener una lista dentro de otra. "
   ]
  },
  {
   "cell_type": "markdown",
   "id": "c26f8926-20cf-4968-98ea-667235165b0a",
   "metadata": {},
   "source": [
    "### Función LEN"
   ]
  },
  {
   "cell_type": "markdown",
   "id": "96aa8dcc-132b-48a7-8680-86193d0687ed",
   "metadata": {},
   "source": [
    "Me permite conocer la longitud de un conjunto de elementos"
   ]
  },
  {
   "cell_type": "code",
   "execution_count": 3,
   "id": "8acd7b9e-dc1d-47a8-93e8-bdccc40813c4",
   "metadata": {},
   "outputs": [
    {
     "name": "stdout",
     "output_type": "stream",
     "text": [
      "El rango de los indice va desde 0, hasta 6\n"
     ]
    }
   ],
   "source": [
    "lista2 = [1,2,3,4,56,87,12]\n",
    "\n",
    "a = len(lista2)\n",
    "\n",
    "print('El rango de los indice va desde {}, hasta {}'.format(0,len(lista2)-1))"
   ]
  },
  {
   "cell_type": "code",
   "execution_count": 25,
   "id": "85ec5327-686f-444b-8438-b91d775ea4d8",
   "metadata": {},
   "outputs": [
    {
     "name": "stdout",
     "output_type": "stream",
     "text": [
      "4\n"
     ]
    }
   ],
   "source": [
    "# ojo con:\n",
    "# si metemos una lista dentro de otra, solo cuenta los ítems de la lista que consultamos. ej:\n",
    "\n",
    "lista1=[1,2,3]\n",
    "lista2=[4,lista1,5,6]\n",
    "\n",
    "print(len(lista2)) # nos va a devolver 4 y no 6"
   ]
  },
  {
   "cell_type": "code",
   "execution_count": 26,
   "id": "c975e8d5-5df3-4746-91a5-fc43e4885d94",
   "metadata": {},
   "outputs": [
    {
     "name": "stdout",
     "output_type": "stream",
     "text": [
      "o\n"
     ]
    }
   ],
   "source": [
    "# Las cadenas de texto son indexados\n",
    "texto = 'Curso de pyton 2024'\n",
    "\n",
    "print(texto[4])"
   ]
  },
  {
   "cell_type": "markdown",
   "id": "bdcebf9c-97b0-4592-8afd-ae1c71f29beb",
   "metadata": {},
   "source": [
    "Cuando una lista tiene otra lista el LEN no toma todos los índice."
   ]
  },
  {
   "cell_type": "markdown",
   "id": "3ca8d75b-2cd0-441a-80cb-040eff2df3b2",
   "metadata": {},
   "source": [
    "## Métodos de las listas"
   ]
  },
  {
   "cell_type": "markdown",
   "id": "59b4f87a-6697-4bd4-b75a-3b0486189cec",
   "metadata": {},
   "source": [
    "### Metodo APPEND\n",
    "Me permite aregar un elemento **AL FINAL** de la lista"
   ]
  },
  {
   "cell_type": "code",
   "execution_count": 4,
   "id": "d390bbc1-62f5-423e-b4b6-3cf943c4bc1b",
   "metadata": {},
   "outputs": [
    {
     "name": "stdout",
     "output_type": "stream",
     "text": [
      "[1, 2, 3, 4, 5]\n",
      "[1, 2, 3, 4, 5, 'Hola']\n"
     ]
    }
   ],
   "source": [
    "lista = [1,2,3,4,5]\n",
    "print(lista)\n",
    "\n",
    "lista.append('Hola')\n",
    "print(lista)"
   ]
  },
  {
   "cell_type": "markdown",
   "id": "c28e47d1-a541-419a-bde5-23a152c0e40c",
   "metadata": {},
   "source": [
    "### Metodo COUNT\n",
    "Cuenta las veces que aparece un elemento dentro de la lista."
   ]
  },
  {
   "cell_type": "code",
   "execution_count": 6,
   "id": "071cea20-848f-49e4-96ab-83163a0cbff1",
   "metadata": {},
   "outputs": [
    {
     "name": "stdout",
     "output_type": "stream",
     "text": [
      "5\n"
     ]
    }
   ],
   "source": [
    "lista = [1,1,1,1,4,5,7,8,8,8,8,8]\n",
    "a = lista.count(8)\n",
    "print(a)"
   ]
  },
  {
   "cell_type": "markdown",
   "id": "ee6fe95a-b5a1-4582-8ddb-28146c231562",
   "metadata": {},
   "source": [
    "### Metodo INDEX\n",
    "Devuelve el indice que tiene un determinado elemento.\n",
    "<br>\n",
    "En caso de estar repetido, me devuelve el indice de la primer ocurrencia."
   ]
  },
  {
   "cell_type": "code",
   "execution_count": 7,
   "id": "6cd6bb84-e331-482b-b1a1-86ad5cde79d7",
   "metadata": {},
   "outputs": [
    {
     "name": "stdout",
     "output_type": "stream",
     "text": [
      "7\n"
     ]
    }
   ],
   "source": [
    "print(lista.index(8))"
   ]
  },
  {
   "cell_type": "markdown",
   "id": "a2dcd60a-62f8-4629-9929-be06a92359df",
   "metadata": {},
   "source": [
    "### Metodo INSERT\n",
    "Me permite insertar un nuevo elemento en una determinada posición"
   ]
  },
  {
   "cell_type": "code",
   "execution_count": 8,
   "id": "c03b1e3a-d116-4200-b196-cf6c9454b31d",
   "metadata": {},
   "outputs": [
    {
     "name": "stdout",
     "output_type": "stream",
     "text": [
      "[1, 2, 3, 4]\n",
      "[1, 2, 3, 4, 'Guillermo']\n"
     ]
    }
   ],
   "source": [
    "numeros = [1,2,3,4]\n",
    "print(numeros)\n",
    "\n",
    "numeros.insert(10,'Guillermo')\n",
    "print(numeros)"
   ]
  },
  {
   "cell_type": "markdown",
   "id": "774e9a8d-432e-4917-ba18-eb8ef2e93483",
   "metadata": {},
   "source": [
    "### Metodo POP\n",
    "Elimina el ultimo elemento de la lista"
   ]
  },
  {
   "cell_type": "code",
   "execution_count": 9,
   "id": "78d812d2-aa18-4ff8-8597-e36d3ce48a5f",
   "metadata": {},
   "outputs": [
    {
     "name": "stdout",
     "output_type": "stream",
     "text": [
      "[1, 2, 3, 4, 5]\n",
      "[1, 2, 3, 4]\n",
      "5\n"
     ]
    }
   ],
   "source": [
    "lista = [1,2,3,4,5]\n",
    "print(lista)\n",
    "\n",
    "a = lista.pop()\n",
    "\n",
    "print(lista)\n",
    "print(a)"
   ]
  },
  {
   "cell_type": "markdown",
   "id": "680113fc-e58d-443e-b3b7-c2a642c33e92",
   "metadata": {},
   "source": [
    "### Metodo REMOVE"
   ]
  },
  {
   "cell_type": "code",
   "execution_count": 48,
   "id": "f3e7b0d4-b618-439b-851d-a019723693d3",
   "metadata": {},
   "outputs": [
    {
     "name": "stdout",
     "output_type": "stream",
     "text": [
      "[1, 2, 3, 4, 5, 3]\n",
      "[1, 2, 4, 5, 3]\n"
     ]
    }
   ],
   "source": [
    "# Metodo REMOVE\n",
    "lista = [1,2,3,4,5,3]\n",
    "print(lista)\n",
    "\n",
    "lista.remove(3) # elimina el primer elemento si esta repetido\n",
    "print(lista)"
   ]
  },
  {
   "cell_type": "markdown",
   "id": "2adb657c-d6e3-462e-b83d-0af356aa2f7b",
   "metadata": {},
   "source": [
    "### Metodo REVERSE"
   ]
  },
  {
   "cell_type": "code",
   "execution_count": 10,
   "id": "8a04abf3-79bb-4e14-9c89-dda2f25f6144",
   "metadata": {},
   "outputs": [
    {
     "name": "stdout",
     "output_type": "stream",
     "text": [
      "[1, 2, 3, 4, 5, 3]\n",
      "[3, 5, 4, 3, 2, 1]\n"
     ]
    }
   ],
   "source": [
    "numeros = [1,2,3,4,5,3]\n",
    "print(numeros)\n",
    "\n",
    "numeros.reverse()\n",
    "print(numeros)"
   ]
  },
  {
   "cell_type": "markdown",
   "id": "5b994c2a-00b0-4de8-baf8-fed027fb8c71",
   "metadata": {},
   "source": [
    "### Metodo SORT\n",
    "Ordena los elementos de una lista."
   ]
  },
  {
   "cell_type": "code",
   "execution_count": 51,
   "id": "befca079-942e-47af-8bac-b3db84104497",
   "metadata": {},
   "outputs": [
    {
     "name": "stdout",
     "output_type": "stream",
     "text": [
      "[0, 6, 12, 25, 34, 99]\n",
      "[99, 34, 25, 12, 6, 0]\n"
     ]
    }
   ],
   "source": [
    "# Metodo SORT\n",
    "# Ordena los elementos de una lista\n",
    "lista = [25,6,12,99,0,34] \n",
    "\n",
    "# La ordenamos de menor a mayor\n",
    "lista.sort()\n",
    "print(lista)\n",
    "\n",
    "# Ordenamos de mayor a menor\n",
    "lista.sort(reverse=True)\n",
    "print(lista)"
   ]
  },
  {
   "cell_type": "markdown",
   "id": "695a5db4-4122-47ee-86a8-7e2238953528",
   "metadata": {},
   "source": [
    "Lista es un tipo de dato inmutable, eso quiere decir que no lo puedo cambiar. "
   ]
  }
 ],
 "metadata": {
  "kernelspec": {
   "display_name": "Python 3 (ipykernel)",
   "language": "python",
   "name": "python3"
  },
  "language_info": {
   "codemirror_mode": {
    "name": "ipython",
    "version": 3
   },
   "file_extension": ".py",
   "mimetype": "text/x-python",
   "name": "python",
   "nbconvert_exporter": "python",
   "pygments_lexer": "ipython3",
   "version": "3.11.7"
  }
 },
 "nbformat": 4,
 "nbformat_minor": 5
}
